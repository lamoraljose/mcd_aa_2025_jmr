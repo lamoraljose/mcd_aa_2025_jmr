{
 "cells": [
  {
   "cell_type": "code",
   "execution_count": null,
   "id": "583f8e40-c665-4441-abea-fbc3c84984f8",
   "metadata": {},
   "outputs": [],
   "source": []
  }
 ],
 "metadata": {
  "kernelspec": {
   "display_name": "",
   "name": ""
  },
  "language_info": {
   "name": ""
  }
 },
 "nbformat": 4,
 "nbformat_minor": 5
}
