{
 "cells": [
  {
   "cell_type": "code",
   "execution_count": null,
   "id": "f415da97-374e-49a6-a2e0-9cf0ee86ae68",
   "metadata": {},
   "outputs": [],
   "source": []
  },
  {
   "cell_type": "code",
   "execution_count": 33,
   "id": "92fabca6-95a1-4092-9f28-fcd270860273",
   "metadata": {},
   "outputs": [],
   "source": [
    "import pandas as pd\n",
    "import numpy as np\n",
    "import sklearn\n",
    "from scipy.stats import shapiro\n",
    "import statistics\n",
    "import matplotlib.pyplot as plt\n",
    "from itertools import combinations\n",
    "from scipy.stats import spearmanr\n",
    "import matplotlib.pyplot as plt\n",
    "from sklearn.preprocessing import LabelEncoder\n",
    "from sklearn.feature_selection import SelectKBest, mutual_info_classif\n",
    "from sklearn.linear_model import LogisticRegression\n",
    "from sklearn.feature_selection import RFE\n",
    "from sklearn.ensemble import RandomForestClassifier"
   ]
  },
  {
   "cell_type": "code",
   "execution_count": 3,
   "id": "cf0e4c6c-3b9f-44f0-a675-2c6cb001bb4e",
   "metadata": {},
   "outputs": [],
   "source": [
    "df = pd.read_csv(\"BankChurners.csv\")"
   ]
  },
  {
   "cell_type": "code",
   "execution_count": 16,
   "id": "338ab55f-5571-4ccb-b296-360eba0a3226",
   "metadata": {},
   "outputs": [
    {
     "data": {
      "text/html": [
       "<div>\n",
       "<style scoped>\n",
       "    .dataframe tbody tr th:only-of-type {\n",
       "        vertical-align: middle;\n",
       "    }\n",
       "\n",
       "    .dataframe tbody tr th {\n",
       "        vertical-align: top;\n",
       "    }\n",
       "\n",
       "    .dataframe thead th {\n",
       "        text-align: right;\n",
       "    }\n",
       "</style>\n",
       "<table border=\"1\" class=\"dataframe\">\n",
       "  <thead>\n",
       "    <tr style=\"text-align: right;\">\n",
       "      <th></th>\n",
       "      <th>CLIENTNUM</th>\n",
       "      <th>Attrition_Flag</th>\n",
       "      <th>Customer_Age</th>\n",
       "      <th>Gender</th>\n",
       "      <th>Dependent_count</th>\n",
       "      <th>Education_Level</th>\n",
       "      <th>Marital_Status</th>\n",
       "      <th>Income_Category</th>\n",
       "      <th>Card_Category</th>\n",
       "      <th>Months_on_book</th>\n",
       "      <th>Total_Relationship_Count</th>\n",
       "      <th>Months_Inactive_12_mon</th>\n",
       "      <th>Contacts_Count_12_mon</th>\n",
       "      <th>Credit_Limit</th>\n",
       "      <th>Total_Revolving_Bal</th>\n",
       "      <th>Avg_Open_To_Buy</th>\n",
       "      <th>Total_Trans_Amt</th>\n",
       "      <th>Total_Trans_Ct</th>\n",
       "      <th>Avg_Utilization_Ratio</th>\n",
       "    </tr>\n",
       "  </thead>\n",
       "  <tbody>\n",
       "    <tr>\n",
       "      <th>0</th>\n",
       "      <td>768805383</td>\n",
       "      <td>1</td>\n",
       "      <td>45</td>\n",
       "      <td>M</td>\n",
       "      <td>3</td>\n",
       "      <td>High School</td>\n",
       "      <td>Married</td>\n",
       "      <td>$60K - $80K</td>\n",
       "      <td>Blue</td>\n",
       "      <td>39</td>\n",
       "      <td>5</td>\n",
       "      <td>1</td>\n",
       "      <td>3</td>\n",
       "      <td>12691.0</td>\n",
       "      <td>777</td>\n",
       "      <td>11914.0</td>\n",
       "      <td>1144</td>\n",
       "      <td>42</td>\n",
       "      <td>0.061</td>\n",
       "    </tr>\n",
       "    <tr>\n",
       "      <th>1</th>\n",
       "      <td>818770008</td>\n",
       "      <td>1</td>\n",
       "      <td>49</td>\n",
       "      <td>F</td>\n",
       "      <td>5</td>\n",
       "      <td>Graduate</td>\n",
       "      <td>Single</td>\n",
       "      <td>Less than $40K</td>\n",
       "      <td>Blue</td>\n",
       "      <td>44</td>\n",
       "      <td>6</td>\n",
       "      <td>1</td>\n",
       "      <td>2</td>\n",
       "      <td>8256.0</td>\n",
       "      <td>864</td>\n",
       "      <td>7392.0</td>\n",
       "      <td>1291</td>\n",
       "      <td>33</td>\n",
       "      <td>0.105</td>\n",
       "    </tr>\n",
       "  </tbody>\n",
       "</table>\n",
       "</div>"
      ],
      "text/plain": [
       "   CLIENTNUM  Attrition_Flag  Customer_Age Gender  Dependent_count  \\\n",
       "0  768805383               1            45      M                3   \n",
       "1  818770008               1            49      F                5   \n",
       "\n",
       "  Education_Level Marital_Status Income_Category Card_Category  \\\n",
       "0     High School        Married     $60K - $80K          Blue   \n",
       "1        Graduate         Single  Less than $40K          Blue   \n",
       "\n",
       "   Months_on_book  Total_Relationship_Count  Months_Inactive_12_mon  \\\n",
       "0              39                         5                       1   \n",
       "1              44                         6                       1   \n",
       "\n",
       "   Contacts_Count_12_mon  Credit_Limit  Total_Revolving_Bal  Avg_Open_To_Buy  \\\n",
       "0                      3       12691.0                  777          11914.0   \n",
       "1                      2        8256.0                  864           7392.0   \n",
       "\n",
       "   Total_Trans_Amt  Total_Trans_Ct  Avg_Utilization_Ratio  \n",
       "0             1144              42                  0.061  \n",
       "1             1291              33                  0.105  "
      ]
     },
     "execution_count": 16,
     "metadata": {},
     "output_type": "execute_result"
    }
   ],
   "source": [
    "df.head(2)"
   ]
  },
  {
   "cell_type": "code",
   "execution_count": 17,
   "id": "ee33614e-9348-4b37-8950-9992fe575ff4",
   "metadata": {},
   "outputs": [
    {
     "name": "stdout",
     "output_type": "stream",
     "text": [
      "<class 'pandas.core.frame.DataFrame'>\n",
      "RangeIndex: 10127 entries, 0 to 10126\n",
      "Data columns (total 19 columns):\n",
      " #   Column                    Non-Null Count  Dtype  \n",
      "---  ------                    --------------  -----  \n",
      " 0   CLIENTNUM                 10127 non-null  int64  \n",
      " 1   Attrition_Flag            10127 non-null  int32  \n",
      " 2   Customer_Age              10127 non-null  int64  \n",
      " 3   Gender                    10127 non-null  object \n",
      " 4   Dependent_count           10127 non-null  int64  \n",
      " 5   Education_Level           10127 non-null  object \n",
      " 6   Marital_Status            10127 non-null  object \n",
      " 7   Income_Category           10127 non-null  object \n",
      " 8   Card_Category             10127 non-null  object \n",
      " 9   Months_on_book            10127 non-null  int64  \n",
      " 10  Total_Relationship_Count  10127 non-null  int64  \n",
      " 11  Months_Inactive_12_mon    10127 non-null  int64  \n",
      " 12  Contacts_Count_12_mon     10127 non-null  int64  \n",
      " 13  Credit_Limit              10127 non-null  float64\n",
      " 14  Total_Revolving_Bal       10127 non-null  int64  \n",
      " 15  Avg_Open_To_Buy           10127 non-null  float64\n",
      " 16  Total_Trans_Amt           10127 non-null  int64  \n",
      " 17  Total_Trans_Ct            10127 non-null  int64  \n",
      " 18  Avg_Utilization_Ratio     10127 non-null  float64\n",
      "dtypes: float64(3), int32(1), int64(10), object(5)\n",
      "memory usage: 1.4+ MB\n"
     ]
    }
   ],
   "source": [
    "df.info()"
   ]
  },
  {
   "cell_type": "code",
   "execution_count": 5,
   "id": "ff840243-3870-4cd0-af0d-2f01d787b76d",
   "metadata": {},
   "outputs": [],
   "source": [
    "## \n",
    "df[\"Attrition_Flag\"] = LabelEncoder().fit_transform(df[\"Attrition_Flag\"])"
   ]
  },
  {
   "cell_type": "code",
   "execution_count": 18,
   "id": "2af507fa-223f-4d39-882d-ac850e504439",
   "metadata": {},
   "outputs": [],
   "source": [
    "df_numericas = df.select_dtypes(include=['float64', 'int64','int32'])"
   ]
  },
  {
   "cell_type": "code",
   "execution_count": 19,
   "id": "3ba7741b-260d-43d2-a456-faa33c86b2f6",
   "metadata": {},
   "outputs": [],
   "source": [
    "y = df[\"Attrition_Flag\"] # variable dependiente/target"
   ]
  },
  {
   "cell_type": "code",
   "execution_count": 20,
   "id": "d8190ce7-ba7f-42b4-b04f-d5ed04696779",
   "metadata": {},
   "outputs": [],
   "source": [
    "x = df_numericas.drop(columns=[\"Attrition_Flag\"])"
   ]
  },
  {
   "cell_type": "code",
   "execution_count": 24,
   "id": "10fb60c2-8184-437b-a237-d26a09f2672c",
   "metadata": {},
   "outputs": [
    {
     "name": "stdout",
     "output_type": "stream",
     "text": [
      "                    Variable     Score\n",
      "10           Total_Trans_Amt  0.158454\n",
      "11            Total_Trans_Ct  0.107256\n",
      "8        Total_Revolving_Bal  0.085597\n",
      "12     Avg_Utilization_Ratio  0.049919\n",
      "6      Contacts_Count_12_mon  0.026546\n",
      "5     Months_Inactive_12_mon  0.022722\n",
      "9            Avg_Open_To_Buy  0.021120\n",
      "4   Total_Relationship_Count  0.008635\n",
      "7               Credit_Limit  0.007987\n",
      "2            Dependent_count  0.004864\n",
      "0                  CLIENTNUM  0.004446\n",
      "3             Months_on_book  0.000944\n",
      "1               Customer_Age  0.000361\n"
     ]
    }
   ],
   "source": [
    "# Usaremos mutual_info_classif (es apto para no normalidad)\n",
    "\n",
    "selector = SelectKBest(score_func=mutual_info_classif, k=5)  # elige top 5\n",
    "selector.fit(x, y)\n",
    "\n",
    "scores = pd.DataFrame({\n",
    "    \"Variable\": x.columns,\n",
    "    \"Score\": selector.scores_\n",
    "}).sort_values(by=\"Score\", ascending=False)\n",
    "\n",
    "print(scores)"
   ]
  },
  {
   "cell_type": "markdown",
   "id": "c0716eb0-6710-4ef2-9e80-acdd9ebb5aaf",
   "metadata": {},
   "source": [
    "Se utilizó el método de selección de características SelectKBest con la métrica mutual_info_classif, dado que los datos no presentan normalidad. Este método evalúa la dependencia estadística entre cada variable y la variable objetivo. Los resultados muestran que las variables relacionadas con la cantidad y el monto de transacciones son las más relevantes para explicar la probabilidad de abandono del cliente (customer attrition)"
   ]
  },
  {
   "cell_type": "markdown",
   "id": "b15a59c3-7879-47e0-a494-229f6768d17d",
   "metadata": {},
   "source": [
    " Dado que las variables numéricas no cumplen el supuesto de normalidad (p < 0.05 en Shapiro-Wilk), se utilizó el método SelectKBest con mutual_info_classif, apropiado para datos no paramétricos.\n",
    "\n",
    "Adicionalmente, se aplicó RFE con regresión logística y un modelo Random Forest, los cuales no requieren normalidad estricta y permiten validar las características relevantes.\n",
    "\n",
    "De esta forma, se seleccionaron las variables siguiendo los supuestos estadísticos de cada método."
   ]
  },
  {
   "cell_type": "code",
   "execution_count": 30,
   "id": "23c082fe-37fe-4c3e-9429-20eb2e58a8b7",
   "metadata": {},
   "outputs": [
    {
     "name": "stderr",
     "output_type": "stream",
     "text": [
      "C:\\Users\\JosedeJesusMoralesRe\\AppData\\Local\\Programs\\Python\\Python312\\Lib\\site-packages\\sklearn\\linear_model\\_logistic.py:469: ConvergenceWarning: lbfgs failed to converge (status=1):\n",
      "STOP: TOTAL NO. of ITERATIONS REACHED LIMIT.\n",
      "\n",
      "Increase the number of iterations (max_iter) or scale the data as shown in:\n",
      "    https://scikit-learn.org/stable/modules/preprocessing.html\n",
      "Please also refer to the documentation for alternative solver options:\n",
      "    https://scikit-learn.org/stable/modules/linear_model.html#logistic-regression\n",
      "  n_iter_i = _check_optimize_result(\n",
      "C:\\Users\\JosedeJesusMoralesRe\\AppData\\Local\\Programs\\Python\\Python312\\Lib\\site-packages\\sklearn\\linear_model\\_logistic.py:469: ConvergenceWarning: lbfgs failed to converge (status=1):\n",
      "STOP: TOTAL NO. of ITERATIONS REACHED LIMIT.\n",
      "\n",
      "Increase the number of iterations (max_iter) or scale the data as shown in:\n",
      "    https://scikit-learn.org/stable/modules/preprocessing.html\n",
      "Please also refer to the documentation for alternative solver options:\n",
      "    https://scikit-learn.org/stable/modules/linear_model.html#logistic-regression\n",
      "  n_iter_i = _check_optimize_result(\n",
      "C:\\Users\\JosedeJesusMoralesRe\\AppData\\Local\\Programs\\Python\\Python312\\Lib\\site-packages\\sklearn\\linear_model\\_logistic.py:469: ConvergenceWarning: lbfgs failed to converge (status=1):\n",
      "STOP: TOTAL NO. of ITERATIONS REACHED LIMIT.\n",
      "\n",
      "Increase the number of iterations (max_iter) or scale the data as shown in:\n",
      "    https://scikit-learn.org/stable/modules/preprocessing.html\n",
      "Please also refer to the documentation for alternative solver options:\n",
      "    https://scikit-learn.org/stable/modules/linear_model.html#logistic-regression\n",
      "  n_iter_i = _check_optimize_result(\n",
      "C:\\Users\\JosedeJesusMoralesRe\\AppData\\Local\\Programs\\Python\\Python312\\Lib\\site-packages\\sklearn\\linear_model\\_logistic.py:469: ConvergenceWarning: lbfgs failed to converge (status=1):\n",
      "STOP: TOTAL NO. of ITERATIONS REACHED LIMIT.\n",
      "\n",
      "Increase the number of iterations (max_iter) or scale the data as shown in:\n",
      "    https://scikit-learn.org/stable/modules/preprocessing.html\n",
      "Please also refer to the documentation for alternative solver options:\n",
      "    https://scikit-learn.org/stable/modules/linear_model.html#logistic-regression\n",
      "  n_iter_i = _check_optimize_result(\n"
     ]
    }
   ],
   "source": [
    "modelo = LogisticRegression(max_iter=500)\n",
    "rfe = RFE(modelo, n_features_to_select=5)\n",
    "rfe.fit(x,y)\n",
    "\n",
    "rfe_results = pd.DataFrame({\n",
    "    \"Variable\": x.columns,\n",
    "    \"Selected\": rfe.support_,\n",
    "    \"Ranking\": rfe.ranking_\n",
    "})\n"
   ]
  },
  {
   "cell_type": "code",
   "execution_count": 31,
   "id": "e3ece9d1-333b-4dea-aba6-c46878d643f6",
   "metadata": {},
   "outputs": [
    {
     "name": "stdout",
     "output_type": "stream",
     "text": [
      "                    Variable  Selected  Ranking\n",
      "2            Dependent_count      True        1\n",
      "4   Total_Relationship_Count      True        1\n",
      "5     Months_Inactive_12_mon      True        1\n",
      "6      Contacts_Count_12_mon      True        1\n",
      "12     Avg_Utilization_Ratio      True        1\n",
      "11            Total_Trans_Ct     False        2\n",
      "3             Months_on_book     False        3\n",
      "1               Customer_Age     False        4\n",
      "8        Total_Revolving_Bal     False        5\n",
      "10           Total_Trans_Amt     False        6\n",
      "7               Credit_Limit     False        7\n",
      "9            Avg_Open_To_Buy     False        8\n",
      "0                  CLIENTNUM     False        9\n"
     ]
    }
   ],
   "source": [
    "print(rfe_results.sort_values(\"Ranking\"))"
   ]
  },
  {
   "cell_type": "markdown",
   "id": "a4aa6245-a991-46fd-bd17-67e1dceea884",
   "metadata": {},
   "source": [
    "Mutual Information destacó las variables de actividad transaccional, mientras que RFE seleccionó variables de engagement administrativo y uso del crédito."
   ]
  },
  {
   "cell_type": "code",
   "execution_count": 34,
   "id": "d3129506-e629-4134-bae9-cc5ef2c17b59",
   "metadata": {},
   "outputs": [],
   "source": [
    "rf = RandomForestClassifier()\n",
    "rf.fit(x, y)\n",
    "\n",
    "importances = pd.DataFrame({\n",
    "    \"Variable\": x.columns,\n",
    "    \"Importance\": rf.feature_importances_\n",
    "}).sort_values(by=\"Importance\", ascending=False)"
   ]
  },
  {
   "cell_type": "code",
   "execution_count": 35,
   "id": "f335a765-4d76-4279-b621-9b35b23a3838",
   "metadata": {},
   "outputs": [
    {
     "name": "stdout",
     "output_type": "stream",
     "text": [
      "                    Variable  Importance\n",
      "10           Total_Trans_Amt    0.232606\n",
      "11            Total_Trans_Ct    0.197525\n",
      "8        Total_Revolving_Bal    0.123532\n",
      "4   Total_Relationship_Count    0.081105\n",
      "12     Avg_Utilization_Ratio    0.071383\n",
      "7               Credit_Limit    0.047490\n",
      "1               Customer_Age    0.045374\n",
      "9            Avg_Open_To_Buy    0.044505\n",
      "0                  CLIENTNUM    0.040363\n",
      "6      Contacts_Count_12_mon    0.035490\n",
      "5     Months_Inactive_12_mon    0.031944\n",
      "3             Months_on_book    0.031907\n",
      "2            Dependent_count    0.016776\n"
     ]
    }
   ],
   "source": [
    "print(importances)"
   ]
  },
  {
   "cell_type": "markdown",
   "id": "5bca576e-4f57-434a-bdd3-c9540f3835d1",
   "metadata": {},
   "source": [
    "Los tres métodos de selección de características coinciden en que las variables relacionadas con la actividad financiera del cliente (Número total de transacciones 12m, Monto total de transacciones 12m, % de uso del crédito) y el nivel de relación con el banco (Número total de productos bancarios) son los predictores más relevantes del abandono.\n",
    "Este hallazgo es consistente con el comportamiento esperado en productos crediticios, donde la disminución en el uso y el bajo engagement suelen anticipar el churn."
   ]
  },
  {
   "cell_type": "markdown",
   "id": "9d1c82d9-75ac-4a82-830b-4a49d6366bcc",
   "metadata": {},
   "source": [
    "La información mutua es adecuada para detectar relaciones no lineales entre variables y la variable objetivo (Brown et al., 2012)."
   ]
  },
  {
   "cell_type": "markdown",
   "id": "c081c051-55ed-4b32-b3ae-d83e83e7c359",
   "metadata": {},
   "source": [
    "“Tree-based feature importance is robust to outliers and does not require linearity or feature scaling.” (Breiman, L. 2001)"
   ]
  },
  {
   "cell_type": "markdown",
   "id": "cc205f67-b374-4697-9c30-4ada0de0604c",
   "metadata": {},
   "source": [
    "## Referencias\n",
    "\n",
    "Brown, G., Pocock, A., Zhao, M.-J., & Luján, M. (2012).  \n",
    "*Conditional likelihood maximisation: A unifying framework for information theoretic feature selection.*  \n",
    "Journal of Machine Learning Research, 13, 27–66.\n",
    "\n",
    "Breiman, L. (2001).  \n",
    "*Random forests.* Machine Learning, 45(1), 5-32.\n"
   ]
  },
  {
   "cell_type": "markdown",
   "id": "0c68b6d8-a005-4ab1-b102-c218d5392d66",
   "metadata": {},
   "source": [
    "Discute por qué crees que las características seleccionadas son las más relevantes y por qué el resto quedaron excluidas en la selección\n",
    "\n",
    "Un cliente activo, endeudado y con más productos tiende a permanecer mientras un cliente inactivo y con poco vínculo tiende a irse\n",
    "\n",
    "Por otro lado, las variables demográficas y de capacidad crediticia pueden correlacionar, pero no son tan fuertes como las conductuales.\n",
    "\n",
    "Las variables elegidas tienen sentido desde tres dimensiones clave del comportamiento del cliente financiero uso, compromiso financiero y relación ocn el banco mientras que las variables excluidas tendieron a ser descriptivas y no conductuales ejemplo edad y dependientes."
   ]
  },
  {
   "cell_type": "code",
   "execution_count": null,
   "id": "9d2b5741-fbc2-4029-83ce-e23ceb7e2d67",
   "metadata": {},
   "outputs": [],
   "source": []
  },
  {
   "cell_type": "code",
   "execution_count": null,
   "id": "e4287dd2-b16a-44d7-8b9e-151117954a97",
   "metadata": {},
   "outputs": [],
   "source": []
  },
  {
   "cell_type": "code",
   "execution_count": null,
   "id": "43ae7ec1-0559-4c3d-81e5-4a45a0fe640c",
   "metadata": {},
   "outputs": [],
   "source": []
  },
  {
   "cell_type": "code",
   "execution_count": null,
   "id": "21175215-445c-448d-a3e7-6562edc39fbb",
   "metadata": {},
   "outputs": [],
   "source": []
  },
  {
   "cell_type": "code",
   "execution_count": null,
   "id": "fd7debcd-b7b5-4a35-ae87-760f9f5e9f51",
   "metadata": {},
   "outputs": [],
   "source": []
  },
  {
   "cell_type": "code",
   "execution_count": null,
   "id": "9184725a-c80e-42b1-aade-c5fde3b3ac0a",
   "metadata": {},
   "outputs": [],
   "source": []
  },
  {
   "cell_type": "code",
   "execution_count": null,
   "id": "b3cc5d52-20eb-406d-b33c-81c64d6d9052",
   "metadata": {},
   "outputs": [],
   "source": []
  },
  {
   "cell_type": "code",
   "execution_count": null,
   "id": "5941edfa-92b0-45b3-9af2-ccd35ac20cd1",
   "metadata": {},
   "outputs": [],
   "source": []
  },
  {
   "cell_type": "code",
   "execution_count": null,
   "id": "42ca4df6-9470-4652-ad03-803979d66325",
   "metadata": {},
   "outputs": [],
   "source": []
  },
  {
   "cell_type": "code",
   "execution_count": null,
   "id": "30adcf36-b9c0-4256-a04c-c2f2973402b9",
   "metadata": {},
   "outputs": [],
   "source": []
  },
  {
   "cell_type": "code",
   "execution_count": null,
   "id": "86f63e95-35a4-49c5-85b5-16054041e4b5",
   "metadata": {},
   "outputs": [],
   "source": []
  },
  {
   "cell_type": "code",
   "execution_count": null,
   "id": "eb34342f-3199-47fe-bf8d-f5b6d2797fd2",
   "metadata": {},
   "outputs": [],
   "source": []
  },
  {
   "cell_type": "code",
   "execution_count": null,
   "id": "e148fbe2-e0b8-4c31-a1b7-9eb59bbc2fef",
   "metadata": {},
   "outputs": [],
   "source": []
  },
  {
   "cell_type": "code",
   "execution_count": null,
   "id": "61f1adb6-0528-4d00-b346-74fef242e213",
   "metadata": {},
   "outputs": [],
   "source": []
  },
  {
   "cell_type": "code",
   "execution_count": null,
   "id": "6fa1009e-8b54-44a0-9b9f-43b592fd8adc",
   "metadata": {},
   "outputs": [],
   "source": []
  },
  {
   "cell_type": "code",
   "execution_count": null,
   "id": "7cb69951-cf85-47cc-9802-5102bf0e8692",
   "metadata": {},
   "outputs": [],
   "source": []
  },
  {
   "cell_type": "code",
   "execution_count": null,
   "id": "5cc5d1c8-12dd-45e4-a276-8edc19db531e",
   "metadata": {},
   "outputs": [],
   "source": []
  },
  {
   "cell_type": "code",
   "execution_count": null,
   "id": "7ba9e460-8edb-4473-9b31-a68db44de5c2",
   "metadata": {},
   "outputs": [],
   "source": []
  },
  {
   "cell_type": "code",
   "execution_count": null,
   "id": "383a31c6-039d-4227-82da-1573c1af94e6",
   "metadata": {},
   "outputs": [],
   "source": []
  },
  {
   "cell_type": "code",
   "execution_count": null,
   "id": "11f6b860-56a1-492a-94a6-9804d9ec33cd",
   "metadata": {},
   "outputs": [],
   "source": []
  },
  {
   "cell_type": "code",
   "execution_count": null,
   "id": "8603ff31-4c51-4468-a673-cfa41ccc37f9",
   "metadata": {},
   "outputs": [],
   "source": []
  },
  {
   "cell_type": "code",
   "execution_count": null,
   "id": "d0003014-fb98-4803-9b9f-31ae92999a71",
   "metadata": {},
   "outputs": [],
   "source": []
  },
  {
   "cell_type": "code",
   "execution_count": null,
   "id": "94100a88-5f37-4e86-abc0-e2ce14a7a506",
   "metadata": {},
   "outputs": [],
   "source": []
  },
  {
   "cell_type": "code",
   "execution_count": null,
   "id": "12addfa9-1bf3-4e80-956b-e1a8a4f81006",
   "metadata": {},
   "outputs": [],
   "source": []
  },
  {
   "cell_type": "code",
   "execution_count": null,
   "id": "b9acdfab-4824-42c4-a4e8-f75dd4a2a665",
   "metadata": {},
   "outputs": [],
   "source": []
  },
  {
   "cell_type": "code",
   "execution_count": null,
   "id": "b0ac3116-5e3a-4df2-8bc7-9dab1df1b607",
   "metadata": {},
   "outputs": [],
   "source": []
  },
  {
   "cell_type": "code",
   "execution_count": null,
   "id": "c587c341-54b6-4c59-9a5e-815760f97e04",
   "metadata": {},
   "outputs": [],
   "source": []
  },
  {
   "cell_type": "code",
   "execution_count": null,
   "id": "53b2671c-fa75-440e-b7d0-c89cf531de0f",
   "metadata": {},
   "outputs": [],
   "source": []
  },
  {
   "cell_type": "code",
   "execution_count": null,
   "id": "ae192582-d8c0-494c-b4d1-ee9cd0896e77",
   "metadata": {},
   "outputs": [],
   "source": []
  }
 ],
 "metadata": {
  "kernelspec": {
   "display_name": "Python 3 (ipykernel)",
   "language": "python",
   "name": "python3"
  },
  "language_info": {
   "codemirror_mode": {
    "name": "ipython",
    "version": 3
   },
   "file_extension": ".py",
   "mimetype": "text/x-python",
   "name": "python",
   "nbconvert_exporter": "python",
   "pygments_lexer": "ipython3",
   "version": "3.12.4"
  }
 },
 "nbformat": 4,
 "nbformat_minor": 5
}
